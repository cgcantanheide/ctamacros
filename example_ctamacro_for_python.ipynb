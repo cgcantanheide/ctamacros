{
 "cells": [
  {
   "cell_type": "markdown",
   "metadata": {},
   "source": [
    "## Notebook to demonstrate the usage of the python interface to CTAmacros for point source simulation"
   ]
  },
  {
   "cell_type": "code",
   "execution_count": 1,
   "metadata": {
    "collapsed": true
   },
   "outputs": [],
   "source": [
    "%matplotlib inline"
   ]
  },
  {
   "cell_type": "markdown",
   "metadata": {},
   "source": [
    "### Imports"
   ]
  },
  {
   "cell_type": "markdown",
   "metadata": {},
   "source": [
    "Note that ROOT must be initialized and installed with pyROOT. The shared library is dynamically created."
   ]
  },
  {
   "cell_type": "code",
   "execution_count": 2,
   "metadata": {},
   "outputs": [],
   "source": [
    "from ctamacropy.makeCTAspec import CTAObsSim\n",
    "from ctamacropy.spectra import *\n",
    "import matplotlib.pyplot as plt\n",
    "import numpy as np"
   ]
  },
  {
   "cell_type": "markdown",
   "metadata": {},
   "source": [
    "For the absorption: ebltable module needed: https://github.com/me-manu/ebltable, which you can install through\n",
    "```\n",
    "pip install ebltable\n",
    "```"
   ]
  },
  {
   "cell_type": "code",
   "execution_count": 3,
   "metadata": {
    "collapsed": true
   },
   "outputs": [],
   "source": [
    "from ebltable.tau_from_model import OptDepth"
   ]
  },
  {
   "cell_type": "markdown",
   "metadata": {},
   "source": [
    "### initialize the cta simulation with an IRF"
   ]
  },
  {
   "cell_type": "markdown",
   "metadata": {},
   "source": [
    "The full path to the irf file:"
   ]
  },
  {
   "cell_type": "code",
   "execution_count": 4,
   "metadata": {
    "collapsed": true
   },
   "outputs": [],
   "source": [
    "irf = 'SubarrayE_IFAE_50hours_20101102.root'"
   ]
  },
  {
   "cell_type": "markdown",
   "metadata": {},
   "source": [
    "Init the class"
   ]
  },
  {
   "cell_type": "code",
   "execution_count": 5,
   "metadata": {
    "collapsed": true
   },
   "outputs": [],
   "source": [
    "cta = CTAObsSim(irf, eMin = 0.05, eMax = 100.)"
   ]
  },
  {
   "cell_type": "markdown",
   "metadata": {},
   "source": [
    "Set the intrinsic spectrum: in this case a log parabole. The normalization is in $\\mathrm{TeV}^{-1}\\,\\mathrm{s}^{-1}\\mathrm{cm}^{-2}$"
   ]
  },
  {
   "cell_type": "code",
   "execution_count": 6,
   "metadata": {
    "collapsed": true
   },
   "outputs": [],
   "source": [
    "params = dict(func = 'lp', alpha = 2.3, beta = 0.1, norm = 5e-12, scale = 1.)"
   ]
  },
  {
   "cell_type": "markdown",
   "metadata": {},
   "source": [
    "Create an array for the absorption with the ebltable module using the EBL model from Dominguez et al. (2011) and a redshift of $z = 0.1$"
   ]
  },
  {
   "cell_type": "code",
   "execution_count": 7,
   "metadata": {
    "collapsed": true
   },
   "outputs": [],
   "source": [
    "z = 0.1\n",
    "eblmodel = 'dominguez'"
   ]
  },
  {
   "cell_type": "code",
   "execution_count": 8,
   "metadata": {
    "collapsed": true
   },
   "outputs": [],
   "source": [
    "tau = OptDepth.readmodel(model = eblmodel)\n",
    "# energy in TeV\n",
    "x = np.logspace(-2,1,100)\n",
    "# EBL absorption for a source with z = 0.1\n",
    "y = np.exp(-1.  * tau.opt_depth(z,x))"
   ]
  },
  {
   "cell_type": "markdown",
   "metadata": {},
   "source": [
    "Set the intrinsic spectrum in the simulation"
   ]
  },
  {
   "cell_type": "code",
   "execution_count": 9,
   "metadata": {
    "collapsed": true
   },
   "outputs": [],
   "source": [
    "cta.setIntrSpec(params)"
   ]
  },
  {
   "cell_type": "markdown",
   "metadata": {},
   "source": [
    "Interpolate the attenuation with a root Spline"
   ]
  },
  {
   "cell_type": "code",
   "execution_count": 10,
   "metadata": {
    "collapsed": true
   },
   "outputs": [],
   "source": [
    "cta.setSpline(x,y)"
   ]
  },
  {
   "cell_type": "markdown",
   "metadata": {},
   "source": [
    "### Run the simulation"
   ]
  },
  {
   "cell_type": "markdown",
   "metadata": {},
   "source": [
    "Run the simulation and return a numpy array with the simulated spectrum. It has the dimension $5 \\times n$ where $n$ is the number of energy bins. The rows are:\n",
    "1. left edge of energy bins in $\\mathrm{TeV}$\n",
    "2. center of energy bin (log scale) in $\\mathrm{TeV}$\n",
    "3. right edge of energy bins in $\\mathrm{TeV}$\n",
    "4. Flux in $\\mathrm{TeV}^{-1}\\mathrm{cm}^{-2}\\mathrm{s}^{-1}$\n",
    "5. Uncertainty in Flux in $\\mathrm{TeV}^{-1}\\mathrm{cm}^{-2}\\mathrm{s}^{-1}$"
   ]
  },
  {
   "cell_type": "code",
   "execution_count": 11,
   "metadata": {},
   "outputs": [],
   "source": [
    "spec = cta.makeCTAspec(useRandom = True, seed = 0, verbose = True)"
   ]
  },
  {
   "cell_type": "markdown",
   "metadata": {},
   "source": [
    "### Plot the spectrum"
   ]
  },
  {
   "cell_type": "code",
   "execution_count": 12,
   "metadata": {},
   "outputs": [
    {
     "data": {
      "text/plain": [
       "(1.0026504252320538e-13, 1.0026504252320537e-11)"
      ]
     },
     "execution_count": 12,
     "metadata": {},
     "output_type": "execute_result"
    },
    {
     "data": {
      "image/png": "[encoded data removed]",
      "text/plain": [
       "<matplotlib.figure.Figure at 0x10a11ebd0>"
      ]
     },
     "metadata": {},
     "output_type": "display_data"
    }
   ],
   "source": [
    "ax = plt.subplot(111)\n",
    "ax.set_xscale('log')\n",
    "ax.set_yscale('log')\n",
    "\n",
    "plt.plot(x, lp(x,**params) * x ** 2. * y)\n",
    "\n",
    "plt.errorbar(spec[1] , spec[3] * spec[1] ** 2., \n",
    "    yerr = spec[4] * spec[1] ** 2., \n",
    "    xerr = (spec[1] - spec[0], spec[0] + spec[2] - spec[1]),\n",
    "    marker = '.', ls = 'None'\n",
    "    )\n",
    "\n",
    "plt.xlabel('Energy (TeV)')\n",
    "plt.ylabel('$E^2\\mathrm{d}N / \\mathrm{d}E\\,(\\mathrm{TeV}\\,\\mathrm{cm}^{-2}\\mathrm{s}^{-1})$')\n",
    "\n",
    "v = plt.axis()\n",
    "plt.gca().set_xlim(spec[0][0] * 0.9, (spec[1] + spec[2])[-1] * 1.1)\n",
    "plt.gca().set_ylim(v[3] / 1e2,v[3])"
   ]
  },
  {
   "cell_type": "markdown",
   "metadata": {},
   "source": [
    "Check the documentation of the ctamacropy module for all the options!"
   ]
  }
 ],
 "metadata": {
  "kernelspec": {
   "display_name": "Python 2",
   "language": "python",
   "name": "python2"
  },
  "language_info": {
   "codemirror_mode": {
    "name": "ipython",
    "version": 2
   },
   "file_extension": ".py",
   "mimetype": "text/x-python",
   "name": "python",
   "nbconvert_exporter": "python",
   "pygments_lexer": "ipython2",
   "version": "2.7.10"
  }
 },
 "nbformat": 4,
 "nbformat_minor": 2
}
