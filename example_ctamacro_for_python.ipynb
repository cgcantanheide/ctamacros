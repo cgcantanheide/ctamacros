{
 "cells": [
  {
   "cell_type": "markdown",
   "metadata": {},
   "source": [
    "## Notebook to demonstrate the usage of the python interface to CTAmacros for point source simulation"
   ]
  },
  {
   "cell_type": "code",
   "execution_count": 1,
   "metadata": {
    "collapsed": true
   },
   "outputs": [],
   "source": [
    "%load_ext autoreload"
   ]
  },
  {
   "cell_type": "code",
   "execution_count": 2,
   "metadata": {
    "collapsed": true
   },
   "outputs": [],
   "source": [
    "%autoreload 2"
   ]
  },
  {
   "cell_type": "code",
   "execution_count": 3,
   "metadata": {
    "collapsed": true
   },
   "outputs": [],
   "source": [
    "%matplotlib inline"
   ]
  },
  {
   "cell_type": "markdown",
   "metadata": {},
   "source": [
    "### Imports"
   ]
  },
  {
   "cell_type": "markdown",
   "metadata": {},
   "source": [
    "Note that ROOT must be initialized and installed with pyROOT. The shared library is dynamically created."
   ]
  },
  {
   "cell_type": "code",
   "execution_count": 4,
   "metadata": {},
   "outputs": [],
   "source": [
    "from ctamacropy.makeCTAspec import CTAObsSim\n",
    "from ctamacropy.spectra import *\n",
    "import matplotlib.pyplot as plt\n",
    "import numpy as np"
   ]
  },
  {
   "cell_type": "markdown",
   "metadata": {},
   "source": [
    "For the absorption: ebltable module needed: https://github.com/me-manu/ebltable, which you can install through\n",
    "```\n",
    "pip install ebltable\n",
    "```"
   ]
  },
  {
   "cell_type": "code",
   "execution_count": 5,
   "metadata": {
    "collapsed": true
   },
   "outputs": [],
   "source": [
    "from ebltable.tau_from_model import OptDepth"
   ]
  },
  {
   "cell_type": "markdown",
   "metadata": {},
   "source": [
    "### initialize the cta simulation with an IRF"
   ]
  },
  {
   "cell_type": "markdown",
   "metadata": {},
   "source": [
    "The full path to the irf file:"
   ]
  },
  {
   "cell_type": "code",
   "execution_count": 6,
   "metadata": {
    "collapsed": true
   },
   "outputs": [],
   "source": [
    "irf = 'SubarrayE_IFAE_50hours_20101102.root'"
   ]
  },
  {
   "cell_type": "markdown",
   "metadata": {},
   "source": [
    "Init the class"
   ]
  },
  {
   "cell_type": "code",
   "execution_count": 7,
   "metadata": {
    "collapsed": true
   },
   "outputs": [],
   "source": [
    "cta = CTAObsSim(irf, eMin = 0.05, eMax = 100.)"
   ]
  },
  {
   "cell_type": "markdown",
   "metadata": {},
   "source": [
    "Set the intrinsic spectrum: in this case a log parabole. The normalization is in $\\mathrm{TeV}^{-1}\\,\\mathrm{s}^{-1}\\mathrm{cm}^{-2}$"
   ]
  },
  {
   "cell_type": "code",
   "execution_count": 8,
   "metadata": {
    "collapsed": true
   },
   "outputs": [],
   "source": [
    "params = dict(func = 'lp', alpha = 2.3, beta = 0.1, norm = 5e-12, scale = 1.)"
   ]
  },
  {
   "cell_type": "markdown",
   "metadata": {},
   "source": [
    "Create an array for the absorption with the ebltable module using the EBL model from Dominguez et al. (2011) and a redshift of $z = 0.1$"
   ]
  },
  {
   "cell_type": "code",
   "execution_count": 9,
   "metadata": {
    "collapsed": true
   },
   "outputs": [],
   "source": [
    "z = 0.1\n",
    "eblmodel = 'dominguez'"
   ]
  },
  {
   "cell_type": "code",
   "execution_count": 10,
   "metadata": {
    "collapsed": true
   },
   "outputs": [],
   "source": [
    "tau = OptDepth.readmodel(model = eblmodel)\n",
    "# energy in TeV\n",
    "x = np.logspace(-2,1,100)\n",
    "# EBL absorption for a source with z = 0.1\n",
    "y = np.exp(-1.  * tau.opt_depth(z,x))"
   ]
  },
  {
   "cell_type": "markdown",
   "metadata": {},
   "source": [
    "Set the intrinsic spectrum in the simulation"
   ]
  },
  {
   "cell_type": "code",
   "execution_count": 11,
   "metadata": {
    "collapsed": true
   },
   "outputs": [],
   "source": [
    "cta.setIntrSpec(params)"
   ]
  },
  {
   "cell_type": "markdown",
   "metadata": {},
   "source": [
    "Interpolate the attenuation with a root Spline"
   ]
  },
  {
   "cell_type": "code",
   "execution_count": 12,
   "metadata": {
    "collapsed": true
   },
   "outputs": [],
   "source": [
    "cta.setSpline(x,y)"
   ]
  },
  {
   "cell_type": "markdown",
   "metadata": {},
   "source": [
    "### Run the simulation"
   ]
  },
  {
   "cell_type": "markdown",
   "metadata": {},
   "source": [
    "Run the simulation and return a numpy array with the simulated spectrum. It has the dimension $5 \\times n$ where $n$ is the number of energy bins. The rows are:\n",
    "1. left edge of energy bins in $\\mathrm{TeV}$\n",
    "2. center of energy bin (log scale) in $\\mathrm{TeV}$\n",
    "3. right edge of energy bins in $\\mathrm{TeV}$\n",
    "4. Flux in $\\mathrm{TeV}^{-1}\\mathrm{cm}^{-2}\\mathrm{s}^{-1}$\n",
    "5. Uncertainty in Flux in $\\mathrm{TeV}^{-1}\\mathrm{cm}^{-2}\\mathrm{s}^{-1}$"
   ]
  },
  {
   "cell_type": "code",
   "execution_count": 17,
   "metadata": {},
   "outputs": [
    {
     "name": "stderr",
     "output_type": "stream",
     "text": [
      "TROOT::Append:0: RuntimeWarning: Replacing existing TH1: spObserved (Potential memory leak).\n"
     ]
    },
    {
     "ename": "TypeError",
     "evalue": "double ::makeCTAspec(TH1D* spObserved, TGraphAsymmErrors* specgraph, TGraphAsymmErrors* ifluxgraph, TGraphAsymmErrors* excessgraph, TH1D* gammaExp, TH1D* bkgExp, const char* filename, TSpline3* SplineEnVsAtt, Double_t* signif, Double_t energyMin = 1e16, Double_t energyMax = 1e-16, Bool_t kRebin = kFALSE, Bool_t kEnRes = kFALSE, Bool_t kAtten = kFALSE, Bool_t kVerbose = kFALSE, TF1* spIntr = spIntrDefault, Double_t effOnTime = effOnTimeDefault, Double_t size_deg = sizeDegDefault, Double_t* threshold = &threshDefault, Bool_t kUseExtended = kTRUE, Bool_t kUseRandom = kTRUE, Double_t alpha = alphaDefault, Double_t minEvt = 7, Double_t minBkg = 0.03, Double_t minAeff = 1e4, Double_t minSig = 3.0, Int_t seed = 0) =>\n    could not convert argument 9",
     "output_type": "error",
     "traceback": [
      "\u001b[0;31m---------------------------------------------------------------------------\u001b[0m",
      "\u001b[0;31mTypeError\u001b[0m                                 Traceback (most recent call last)",
      "\u001b[0;32m<ipython-input-17-504bd2ad445e>\u001b[0m in \u001b[0;36m<module>\u001b[0;34m()\u001b[0m\n\u001b[0;32m----> 1\u001b[0;31m \u001b[0mspec\u001b[0m \u001b[0;34m=\u001b[0m \u001b[0mcta\u001b[0m\u001b[0;34m.\u001b[0m\u001b[0mmakeCTAspec\u001b[0m\u001b[0;34m(\u001b[0m\u001b[0museRandom\u001b[0m \u001b[0;34m=\u001b[0m \u001b[0mTrue\u001b[0m\u001b[0;34m,\u001b[0m \u001b[0mseed\u001b[0m \u001b[0;34m=\u001b[0m \u001b[0;36m256\u001b[0m\u001b[0;34m,\u001b[0m \u001b[0mverbose\u001b[0m \u001b[0;34m=\u001b[0m \u001b[0mTrue\u001b[0m\u001b[0;34m)\u001b[0m\u001b[0;34m\u001b[0m\u001b[0m\n\u001b[0m\u001b[1;32m      2\u001b[0m \u001b[0;32mprint\u001b[0m \u001b[0mcta\u001b[0m\u001b[0;34m.\u001b[0m\u001b[0msignif\u001b[0m\u001b[0;34m\u001b[0m\u001b[0m\n",
      "\u001b[0;32m/Users/manuelmeyer/projects/python/ctamacros/ctamacropy/makeCTAspec.py\u001b[0m in \u001b[0;36mmakeCTAspec\u001b[0;34m(self, **kwargs)\u001b[0m\n\u001b[1;32m    274\u001b[0m                             \u001b[0mkwargs\u001b[0m\u001b[0;34m[\u001b[0m\u001b[0;34m'minAeff'\u001b[0m\u001b[0;34m]\u001b[0m\u001b[0;34m,\u001b[0m\u001b[0;34m\u001b[0m\u001b[0m\n\u001b[1;32m    275\u001b[0m                             \u001b[0mkwargs\u001b[0m\u001b[0;34m[\u001b[0m\u001b[0;34m'minSig'\u001b[0m\u001b[0;34m]\u001b[0m\u001b[0;34m,\u001b[0m\u001b[0;34m\u001b[0m\u001b[0m\n\u001b[0;32m--> 276\u001b[0;31m                             \u001b[0mint\u001b[0m\u001b[0;34m(\u001b[0m\u001b[0mkwargs\u001b[0m\u001b[0;34m[\u001b[0m\u001b[0;34m'seed'\u001b[0m\u001b[0;34m]\u001b[0m\u001b[0;34m)\u001b[0m\u001b[0;34m\u001b[0m\u001b[0m\n\u001b[0m\u001b[1;32m    277\u001b[0m \t\t\t )\n\u001b[1;32m    278\u001b[0m \u001b[0;34m\u001b[0m\u001b[0m\n",
      "\u001b[0;31mTypeError\u001b[0m: double ::makeCTAspec(TH1D* spObserved, TGraphAsymmErrors* specgraph, TGraphAsymmErrors* ifluxgraph, TGraphAsymmErrors* excessgraph, TH1D* gammaExp, TH1D* bkgExp, const char* filename, TSpline3* SplineEnVsAtt, Double_t* signif, Double_t energyMin = 1e16, Double_t energyMax = 1e-16, Bool_t kRebin = kFALSE, Bool_t kEnRes = kFALSE, Bool_t kAtten = kFALSE, Bool_t kVerbose = kFALSE, TF1* spIntr = spIntrDefault, Double_t effOnTime = effOnTimeDefault, Double_t size_deg = sizeDegDefault, Double_t* threshold = &threshDefault, Bool_t kUseExtended = kTRUE, Bool_t kUseRandom = kTRUE, Double_t alpha = alphaDefault, Double_t minEvt = 7, Double_t minBkg = 0.03, Double_t minAeff = 1e4, Double_t minSig = 3.0, Int_t seed = 0) =>\n    could not convert argument 9"
     ]
    }
   ],
   "source": [
    "spec = cta.makeCTAspec(useRandom = True, seed = 256, verbose = True)\n",
    "print cta.signif"
   ]
  },
  {
   "cell_type": "code",
   "execution_count": 16,
   "metadata": {},
   "outputs": [
    {
     "data": {
      "text/plain": [
       "0.0"
      ]
     },
     "execution_count": 16,
     "metadata": {},
     "output_type": "execute_result"
    }
   ],
   "source": [
    "cta.signif"
   ]
  },
  {
   "cell_type": "markdown",
   "metadata": {},
   "source": [
    "### Plot the spectrum"
   ]
  },
  {
   "cell_type": "code",
   "execution_count": 14,
   "metadata": {},
   "outputs": [
    {
     "data": {
      "text/plain": [
       "(1.0159311892997991e-13, 1.0159311892997991e-11)"
      ]
     },
     "execution_count": 14,
     "metadata": {},
     "output_type": "execute_result"
    },
    {
     "data": {
      "image/png": "[encoded data removed]",
      "text/plain": [
       "<matplotlib.figure.Figure at 0x10ca6b990>"
      ]
     },
     "metadata": {},
     "output_type": "display_data"
    }
   ],
   "source": [
    "ax = plt.subplot(111)\n",
    "ax.set_xscale('log')\n",
    "ax.set_yscale('log')\n",
    "\n",
    "plt.plot(x, lp(x,**params) * x ** 2. * y)\n",
    "\n",
    "plt.errorbar(spec[1] , spec[3] * spec[1] ** 2., \n",
    "    yerr = spec[4] * spec[1] ** 2., \n",
    "    xerr = (spec[1] - spec[0], spec[0] + spec[2] - spec[1]),\n",
    "    marker = '.', ls = 'None'\n",
    "    )\n",
    "\n",
    "plt.xlabel('Energy (TeV)')\n",
    "plt.ylabel('$E^2\\mathrm{d}N / \\mathrm{d}E\\,(\\mathrm{TeV}\\,\\mathrm{cm}^{-2}\\mathrm{s}^{-1})$')\n",
    "\n",
    "v = plt.axis()\n",
    "plt.gca().set_xlim(cta.spec[0][0] * 0.9, (cta.spec[1] + cta.spec[2])[-1] * 1.1)\n",
    "plt.gca().set_ylim(v[3] / 1e2,v[3])"
   ]
  },
  {
   "cell_type": "markdown",
   "metadata": {},
   "source": [
    "Check the documentation of the ctamacropy module for all the options!"
   ]
  }
 ],
 "metadata": {
  "kernelspec": {
   "display_name": "Python 2",
   "language": "python",
   "name": "python2"
  },
  "language_info": {
   "codemirror_mode": {
    "name": "ipython",
    "version": 2
   },
   "file_extension": ".py",
   "mimetype": "text/x-python",
   "name": "python",
   "nbconvert_exporter": "python",
   "pygments_lexer": "ipython2",
   "version": "2.7.10"
  }
 },
 "nbformat": 4,
 "nbformat_minor": 2
}
